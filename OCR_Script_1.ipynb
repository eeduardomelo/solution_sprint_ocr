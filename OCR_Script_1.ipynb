{
 "cells": [
  {
   "cell_type": "code",
   "execution_count": 96,
   "id": "7b98b9b4",
   "metadata": {},
   "outputs": [
    {
     "name": "stdout",
     "output_type": "stream",
     "text": [
      "Defaulting to user installation because normal site-packages is not writeable\n",
      "Requirement already satisfied: pandas in /home/eduardo/.local/lib/python3.8/site-packages (1.2.3)\n",
      "Requirement already satisfied: numpy>=1.16.5 in /home/eduardo/.local/lib/python3.8/site-packages (from pandas) (1.20.1)\n",
      "Requirement already satisfied: pytz>=2017.3 in /usr/lib/python3/dist-packages (from pandas) (2019.3)\n",
      "Requirement already satisfied: python-dateutil>=2.7.3 in /usr/lib/python3/dist-packages (from pandas) (2.7.3)\n",
      "\u001b[33mWARNING: You are using pip version 21.0.1; however, version 21.2.4 is available.\n",
      "You should consider upgrading via the '/usr/bin/python3 -m pip install --upgrade pip' command.\u001b[0m\n"
     ]
    }
   ],
   "source": [
    "!pip install pandas"
   ]
  },
  {
   "cell_type": "code",
   "execution_count": 114,
   "id": "da7a2987",
   "metadata": {},
   "outputs": [],
   "source": [
    "import cv2 \n",
    "import pytesseract\n",
    "import numpy as np\n",
    "from pytesseract import Output\n",
    "import imutils\n",
    "import pandas as pd"
   ]
  },
  {
   "cell_type": "markdown",
   "id": "eafe0e7a",
   "metadata": {},
   "source": [
    "## Processando a Imagem"
   ]
  },
  {
   "cell_type": "code",
   "execution_count": 161,
   "id": "287e36f2",
   "metadata": {},
   "outputs": [],
   "source": [
    "#image = cv2.imread('cupom2.jpg')\n",
    "#image = cv2.imread('NotaFiscal1.jpeg')\n",
    "image = cv2.imread('NotaFiscal1.jpeg')\n",
    "\n",
    "img = image.copy()\n",
    "(H, W) = img.shape[:2]\n",
    "#img = cv2.resize(image, (800, 600))\n",
    "#cv2.imshow('img', edged)\n",
    "#cv2.waitKey(0)"
   ]
  },
  {
   "cell_type": "markdown",
   "id": "dc1bb137",
   "metadata": {},
   "source": [
    "## Aplicando tons de cinza"
   ]
  },
  {
   "cell_type": "code",
   "execution_count": 162,
   "id": "9b80ba0d",
   "metadata": {},
   "outputs": [],
   "source": [
    "rgb = cv2.cvtColor(img, cv2.COLOR_BGR2GRAY)"
   ]
  },
  {
   "cell_type": "markdown",
   "id": "35b25f0e",
   "metadata": {},
   "source": [
    "## Aplicando Desfoque\n"
   ]
  },
  {
   "cell_type": "code",
   "execution_count": 117,
   "id": "3d4e021f",
   "metadata": {},
   "outputs": [],
   "source": [
    "#blurImg = cv2.GaussianBlur(rgb, (5, 5), 0)"
   ]
  },
  {
   "cell_type": "markdown",
   "id": "e019ae24",
   "metadata": {},
   "source": [
    "## Dilate to combine adjacent text contours"
   ]
  },
  {
   "cell_type": "code",
   "execution_count": 163,
   "id": "0569bf5b",
   "metadata": {},
   "outputs": [],
   "source": [
    "#edged = cv2.Canny(blurImg, 60, 160)\n",
    "threshold_img = cv2.threshold(rgb, 0, 255, cv2.THRESH_BINARY | cv2.THRESH_OTSU)[1]\n",
    "\n",
    "#thresh = cv2.adaptiveThreshold(blurImg,255,cv2.ADAPTIVE_THRESH_GAUSSIAN_C, cv2.THRESH_BINARY_INV,11,30)\n",
    "#kernel = cv2.getStructuringElement(cv2.MORPH_RECT, (9,9))\n",
    "#dilate = cv2.dilate(thresh, kernel, iterations=4)"
   ]
  },
  {
   "cell_type": "markdown",
   "id": "6a3e4ef4",
   "metadata": {},
   "source": [
    "## Detectando Bordas"
   ]
  },
  {
   "cell_type": "code",
   "execution_count": 164,
   "id": "2eece442",
   "metadata": {},
   "outputs": [],
   "source": [
    "#cnts = cv2.findContours(dilate, cv2.RETR_EXTERNAL, cv2.CHAIN_APPROX_SIMPLE)\n",
    "#cnts = cnts[0] if len(cnts) == 2 else cnts[1]"
   ]
  },
  {
   "cell_type": "markdown",
   "id": "33e3fa4a",
   "metadata": {},
   "source": [
    "## Função para encontrar contornos na imagem"
   ]
  },
  {
   "cell_type": "code",
   "execution_count": 165,
   "id": "b3a19cbe",
   "metadata": {},
   "outputs": [],
   "source": [
    "# def encontrar_contornos(img):\n",
    "#   conts = cv2.findContours(img, cv2.RETR_LIST, cv2.CHAIN_APPROX_SIMPLE)\n",
    "#   conts = imutils.grab_contours(conts)\n",
    "#   conts = sorted(conts, key = cv2.contourArea, reverse = True)[:6]\n",
    "#   return conts\n",
    "\n",
    "# conts = encontrar_contornos(edged.copy())\n",
    "# #conts\n",
    "\n",
    "# for c in conts:\n",
    "#   perimetro = cv2.arcLength(c, True)\n",
    "#   aproximacao = cv2.approxPolyDP(c, 0.02 * perimetro, True)\n",
    "#   if len(aproximacao) == 4:\n",
    "#     maior = aproximacao\n",
    "#     break\n",
    "# maior\n",
    "\n",
    "# cv2.drawContours(img, maior, -1, (120, 255, 0), 28)\n",
    "# cv2.drawContours(img, [maior], -1, (120, 255, 0), 2)\n",
    "# cv2.imshow('img', img)\n",
    "# cv2.waitKey(0)\n",
    "\n",
    "# def ordenar_pontos(pontos):\n",
    "#   pontos = pontos.reshape((4,2))\n",
    "#   pontos_novos = np.zeros((4, 1, 2), dtype=np.int32)\n",
    "\n",
    "#   add = pontos.sum(1)\n",
    "#   pontos_novos[0] = pontos[np.argmin(add)]\n",
    "#   pontos_novos[2] = pontos[np.argmax(add)]\n",
    "\n",
    "#   dif = np.diff(pontos, axis = 1)\n",
    "#   pontos_novos[1] = pontos[np.argmin(dif)]\n",
    "#   pontos_novos[3] = pontos[np.argmax(dif)]\n",
    "\n",
    "#   return pontos_novos\n",
    "\n",
    "# pontos_maior = ordenar_pontos(maior)\n",
    "# print(pontos_maior)\n",
    "\n",
    "# pts1 = np.float32(pontos_maior)\n",
    "# pts1\n",
    "\n",
    "# (H, W) = img.shape[:2]\n",
    "# print(H, W)\n",
    "\n",
    "# pts2 = np.float32([[0,0], [W, 0], [W, H], [0, H]])\n",
    "\n",
    "# matriz = cv2.getPerspectiveTransform(pts1, pts2)\n",
    "# matriz"
   ]
  },
  {
   "cell_type": "markdown",
   "id": "a434725a",
   "metadata": {},
   "source": [
    "## Transformação de perspectiva"
   ]
  },
  {
   "cell_type": "code",
   "execution_count": 166,
   "id": "93dbce02",
   "metadata": {},
   "outputs": [],
   "source": [
    "# transform = cv2.warpPerspective(img, matriz, (W, H))"
   ]
  },
  {
   "cell_type": "code",
   "execution_count": 167,
   "id": "484cbdba",
   "metadata": {},
   "outputs": [],
   "source": [
    "# cv2.imshow('img', transform)\n",
    "# cv2.waitKey(0)"
   ]
  },
  {
   "cell_type": "code",
   "execution_count": 168,
   "id": "830a88a0",
   "metadata": {},
   "outputs": [],
   "source": [
    "# conts = encontrar_contornos(edged.copy())"
   ]
  },
  {
   "cell_type": "code",
   "execution_count": 169,
   "id": "62eb915a",
   "metadata": {},
   "outputs": [],
   "source": [
    "# cv2.drawContours(edged, maior, -1, (120, 255, 0), 28)\n",
    "# cv2.drawContours(edged, [maior], -1, (120, 255, 0), 2)\n",
    "# #cv2.imshow('img', img)\n",
    "# #cv2.waitKey(0)"
   ]
  },
  {
   "cell_type": "code",
   "execution_count": 170,
   "id": "08fcbfbd",
   "metadata": {},
   "outputs": [],
   "source": [
    "#parametros para o tesseract\n",
    "custom_config = r'--oem 3 --psm 4'\n",
    "\n",
    "details = pytesseract.image_to_data(threshold_img, output_type=Output.DICT, config=custom_config)\n",
    "text = pytesseract.image_to_string(threshold_img, output_type=Output.DICT, config=custom_config)\n",
    "\n",
    "\n",
    "alldata = pd.DataFrame(details)\n",
    "\n",
    "\n",
    "#alldata.to_excel('MarksData.xlsx')\n"
   ]
  },
  {
   "cell_type": "code",
   "execution_count": 199,
   "id": "33b889ac",
   "metadata": {},
   "outputs": [],
   "source": [
    "def removeSpecialCharacters(string):\n",
    "    alphanumeric = []\n",
    "\n",
    "    for character in string:\n",
    "        if character.isalnum():\n",
    "            alphanumeric.append(character) \n",
    "        \n",
    "    return alphanumeric"
   ]
  },
  {
   "cell_type": "markdown",
   "id": "c60a34ca",
   "metadata": {},
   "source": [
    "## Loop para pegar  Nome Estabelecimento"
   ]
  },
  {
   "cell_type": "code",
   "execution_count": 173,
   "id": "bf12c4e0",
   "metadata": {},
   "outputs": [],
   "source": [
    "name = []\n",
    "for i, data in enumerate(alldata['block_num']):\n",
    "    if(data==3):\n",
    "        if(alldata['line_num'][i]==1):    \n",
    "            if(alldata['word_num'][i]>0):\n",
    "                name.append(alldata['text'][i])\n"
   ]
  },
  {
   "cell_type": "markdown",
   "id": "05450995",
   "metadata": {},
   "source": [
    "## Loop para Pegar Produtos"
   ]
  },
  {
   "cell_type": "code",
   "execution_count": 185,
   "id": "115e6da8",
   "metadata": {},
   "outputs": [],
   "source": [
    "products = []\n",
    "for i, data in enumerate(alldata['block_num']):\n",
    "    if(data==5):\n",
    "        if(alldata['line_num'][i]==1 and alldata['par_num'][i]==1):    \n",
    "            if(alldata['word_num'][i]>0):\n",
    "                products.append(alldata['text'][i])"
   ]
  },
  {
   "cell_type": "markdown",
   "id": "bec6f39c",
   "metadata": {},
   "source": [
    "## Loop para Pegar Total da Nota"
   ]
  },
  {
   "cell_type": "code",
   "execution_count": 186,
   "id": "d7b8d087",
   "metadata": {},
   "outputs": [],
   "source": [
    "total = []\n",
    "for i, data in enumerate(alldata['block_num']):\n",
    "    if(data==5):\n",
    "        if(alldata['line_num'][i]==2 and alldata['par_num'][i]==1):    \n",
    "            if(alldata['word_num'][i]>0):\n",
    "                total.append(alldata['text'][i])"
   ]
  },
  {
   "cell_type": "code",
   "execution_count": 209,
   "id": "0226f448",
   "metadata": {},
   "outputs": [
    {
     "name": "stdout",
     "output_type": "stream",
     "text": [
      "['001', 'PIERCING', 'ACO', '1', 'UN', 'X']\n"
     ]
    }
   ],
   "source": [
    "name = removeSpecialCharacters(name)\n",
    "# products = removeSpecialCharacters(products)\n",
    "total = ''.join(total)\n",
    "print(products)"
   ]
  },
  {
   "cell_type": "markdown",
   "id": "e17ddfcb",
   "metadata": {},
   "source": [
    "## Criando Classe de Retorno"
   ]
  },
  {
   "cell_type": "code",
   "execution_count": 196,
   "id": "1d2cf20a",
   "metadata": {},
   "outputs": [
    {
     "ename": "NameError",
     "evalue": "name 'response' is not defined",
     "output_type": "error",
     "traceback": [
      "\u001b[0;31m---------------------------------------------------------------------------\u001b[0m",
      "\u001b[0;31mNameError\u001b[0m                                 Traceback (most recent call last)",
      "\u001b[0;32m<ipython-input-196-6f7f8f4ac546>\u001b[0m in \u001b[0;36m<module>\u001b[0;34m\u001b[0m\n\u001b[0;32m----> 1\u001b[0;31m \u001b[0mresponse\u001b[0m\u001b[0;34m[\u001b[0m\u001b[0;34m'name'\u001b[0m\u001b[0;34m]\u001b[0m \u001b[0;34m=\u001b[0m \u001b[0;34m'teste'\u001b[0m\u001b[0;34m\u001b[0m\u001b[0;34m\u001b[0m\u001b[0m\n\u001b[0m\u001b[1;32m      2\u001b[0m \u001b[0mprint\u001b[0m\u001b[0;34m(\u001b[0m\u001b[0mresponse\u001b[0m\u001b[0;34m)\u001b[0m\u001b[0;34m\u001b[0m\u001b[0;34m\u001b[0m\u001b[0m\n",
      "\u001b[0;31mNameError\u001b[0m: name 'response' is not defined"
     ]
    }
   ],
   "source": [
    "class cupom(object):\n",
    "    name = \"\"\n",
    "    products = []\n",
    "    totaç = \"\"\n",
    "\n",
    "def make_cupom(name, products, major):\n",
    "    student = Student()\n",
    "    student.name = name\n",
    "    student.age.append(products)\n",
    "    student.major = major\n",
    "    # Note: I didn't need to create a variable in the class definition before doing this.\n",
    "    student.gpa = float(4.0)\n",
    "    return student"
   ]
  },
  {
   "cell_type": "code",
   "execution_count": 113,
   "id": "77a05d40",
   "metadata": {},
   "outputs": [
    {
     "name": "stdout",
     "output_type": "stream",
     "text": [
      "dict_keys(['level', 'page_num', 'block_num', 'par_num', 'line_num', 'word_num', 'left', 'top', 'width', 'height', 'conf', 'text'])\n",
      "conf-----------------------------------------\n",
      "['-1', '-1', '-1', '-1', 95, '-1', 95, 95, '-1', '-1', '-1', 95, '-1', 95, 95, '-1', 95, '-1', 95, '-1', '-1', '-1', 5, 21, 18, 0, '-1', 59, 39, 0, 85, 10, 0, '-1', 15, 95, 92, 80, 35, 92, 27, 96, '-1', '-1', '-1', 0, 0, 87, 74, 96, '-1', 92, 94, 93, 91, 92, 96, '-1', '-1', '-1', 96, 94, 91, 42, 42, 79, 81, 55, '-1', 95, 78, 78, '-1', 89, 92, 92, '-1', '-1', 71, 76, 91, '-1', 69, 39, 11, 86, 86, 89, 90, 96, '-1', 54, 38, 19, 48, 49, 85, 65, 44, 30, 66, '-1', '-1', '-1', 0, 77, 90, 74, 72, '-1', 79, 79, 50, '-1', '-1', '-1', 95, '-1', 95, '-1', 95, '-1', '-1', '-1', 95, '-1', 95, '-1', 95, '-1', 95, 95, '-1', 95, 95, '-1', 95, 95, '-1', 95, 95, '-1', 95, '-1', '-1', '-1', 95, '-1', '-1', '-1', 95, 95, '-1', 95, 95, '-1', '-1', '-1', 95, '-1', '-1', '-1', 95, '-1', '-1', '-1', 53, '-1', 69, 77, 66, 31, 31, 62, 0, '-1', 42, 42, 31, '-1', '-1', 28, '-1', '-1', '-1', 29]\n",
      "top-----------------------------------------\n",
      "[0, 0, 0, 0, 0, 83, 87, 83, 87, 87, 87, 87, 195, 196, 195, 326, 326, 411, 411, 111, 108, 111, 132, 123, 104, 104, 155, 155, 179, 180, 191, 189, 178, 230, 249, 230, 230, 250, 239, 237, 250, 236, 381, 364, 381, 360, 360, 384, 395, 385, 430, 434, 432, 430, 432, 432, 433, 707, 707, 707, 725, 723, 707, 720, 720, 718, 716, 715, 763, 774, 755, 755, 882, 889, 888, 882, 973, 973, 973, 974, 973, 1018, 1021, 1019, 1026, 1023, 1023, 1032, 1019, 1018, 1065, 1084, 1092, 1068, 1065, 1067, 1068, 1073, 1071, 1067, 1066, 1142, 1142, 1142, 1142, 1166, 1163, 1157, 1153, 1203, 1209, 1220, 1203, 326, 326, 326, 326, 454, 454, 683, 683, 683, 683, 683, 683, 780, 780, 862, 862, 953, 953, 953, 994, 1009, 994, 1091, 1097, 1091, 1169, 1228, 1169, 1312, 1312, 1139, 1139, 1139, 1139, 1285, 1285, 1285, 1378, 1285, 1477, 1477, 1477, 1360, 1360, 1360, 1360, 1360, 1360, 1360, 1360, 1257, 1257, 1257, 1257, 1290, 1337, 1322, 1319, 1304, 1308, 1290, 1297, 1343, 1343, 1339, 1335, 1480, 1480, 1480, 1476, 1476, 1476, 1476]\n",
      "line_num-----------------------------------------\n",
      "[0, 0, 0, 1, 1, 2, 2, 2, 0, 0, 1, 1, 2, 2, 2, 3, 3, 4, 4, 0, 0, 1, 1, 1, 1, 1, 2, 2, 2, 2, 2, 2, 2, 3, 3, 3, 3, 3, 3, 3, 3, 3, 0, 0, 1, 1, 1, 1, 1, 1, 2, 2, 2, 2, 2, 2, 2, 0, 0, 1, 1, 1, 1, 1, 1, 1, 1, 1, 2, 2, 2, 2, 3, 3, 3, 3, 0, 1, 1, 1, 1, 2, 2, 2, 2, 2, 2, 2, 2, 2, 3, 3, 3, 3, 3, 3, 3, 3, 3, 3, 3, 0, 0, 1, 1, 1, 1, 1, 1, 2, 2, 2, 2, 0, 0, 1, 1, 2, 2, 3, 3, 0, 0, 1, 1, 2, 2, 3, 3, 4, 4, 4, 5, 5, 5, 6, 6, 6, 7, 7, 7, 8, 8, 0, 0, 1, 1, 0, 0, 1, 1, 1, 2, 2, 2, 0, 0, 1, 1, 0, 0, 1, 1, 0, 0, 1, 1, 2, 2, 2, 2, 2, 2, 2, 2, 3, 3, 3, 3, 0, 1, 1, 0, 0, 1, 1]\n",
      "word_num-----------------------------------------\n",
      "[0, 0, 0, 0, 1, 0, 1, 2, 0, 0, 0, 1, 0, 1, 2, 0, 1, 0, 1, 0, 0, 0, 1, 2, 3, 4, 0, 1, 2, 3, 4, 5, 6, 0, 1, 2, 3, 4, 5, 6, 7, 8, 0, 0, 0, 1, 2, 3, 4, 5, 0, 1, 2, 3, 4, 5, 6, 0, 0, 0, 1, 2, 3, 4, 5, 6, 7, 8, 0, 1, 2, 3, 0, 1, 2, 3, 0, 0, 1, 2, 3, 0, 1, 2, 3, 4, 5, 6, 7, 8, 0, 1, 2, 3, 4, 5, 6, 7, 8, 9, 10, 0, 0, 0, 1, 2, 3, 4, 5, 0, 1, 2, 3, 0, 0, 0, 1, 0, 1, 0, 1, 0, 0, 0, 1, 0, 1, 0, 1, 0, 1, 2, 0, 1, 2, 0, 1, 2, 0, 1, 2, 0, 1, 0, 0, 0, 1, 0, 0, 0, 1, 2, 0, 1, 2, 0, 0, 0, 1, 0, 0, 0, 1, 0, 0, 0, 1, 0, 1, 2, 3, 4, 5, 6, 7, 0, 1, 2, 3, 0, 0, 1, 0, 0, 0, 1]\n",
      "left-----------------------------------------\n",
      "[0, 0, 0, 0, 0, 0, 0, 904, 0, 0, 904, 904, 0, 0, 812, 810, 810, 1028, 1028, 156, 156, 276, 276, 352, 479, 626, 166, 211, 314, 391, 549, 602, 743, 156, 156, 300, 392, 536, 569, 638, 744, 777, 169, 169, 304, 294, 411, 535, 728, 759, 169, 169, 259, 400, 502, 708, 813, 147, 147, 149, 149, 224, 387, 576, 607, 658, 698, 891, 148, 148, 889, 948, 147, 147, 278, 333, 152, 334, 334, 542, 593, 152, 152, 244, 445, 576, 631, 790, 822, 962, 160, 160, 334, 408, 544, 597, 682, 752, 788, 841, 927, 326, 326, 326, 326, 407, 477, 545, 697, 390, 390, 584, 618, 0, 0, 0, 0, 0, 0, 437, 437, 0, 0, 0, 0, 0, 0, 0, 0, 0, 0, 802, 0, 0, 1032, 0, 0, 1032, 0, 0, 555, 0, 0, 1117, 1117, 1117, 1117, 0, 0, 0, 0, 956, 0, 0, 1036, 375, 375, 375, 375, 381, 381, 381, 381, 195, 195, 1118, 1118, 195, 195, 320, 512, 634, 737, 1110, 1173, 333, 333, 609, 1155, 1138, 1138, 1138, 338, 338, 338, 338]\n",
      "top-----------------------------------------\n",
      "[0, 0, 0, 0, 0, 83, 87, 83, 87, 87, 87, 87, 195, 196, 195, 326, 326, 411, 411, 111, 108, 111, 132, 123, 104, 104, 155, 155, 179, 180, 191, 189, 178, 230, 249, 230, 230, 250, 239, 237, 250, 236, 381, 364, 381, 360, 360, 384, 395, 385, 430, 434, 432, 430, 432, 432, 433, 707, 707, 707, 725, 723, 707, 720, 720, 718, 716, 715, 763, 774, 755, 755, 882, 889, 888, 882, 973, 973, 973, 974, 973, 1018, 1021, 1019, 1026, 1023, 1023, 1032, 1019, 1018, 1065, 1084, 1092, 1068, 1065, 1067, 1068, 1073, 1071, 1067, 1066, 1142, 1142, 1142, 1142, 1166, 1163, 1157, 1153, 1203, 1209, 1220, 1203, 326, 326, 326, 326, 454, 454, 683, 683, 683, 683, 683, 683, 780, 780, 862, 862, 953, 953, 953, 994, 1009, 994, 1091, 1097, 1091, 1169, 1228, 1169, 1312, 1312, 1139, 1139, 1139, 1139, 1285, 1285, 1285, 1378, 1285, 1477, 1477, 1477, 1360, 1360, 1360, 1360, 1360, 1360, 1360, 1360, 1257, 1257, 1257, 1257, 1290, 1337, 1322, 1319, 1304, 1308, 1290, 1297, 1343, 1343, 1339, 1335, 1480, 1480, 1480, 1476, 1476, 1476, 1476]\n",
      "width-----------------------------------------\n",
      "[1200, 1200, 1200, 1200, 1200, 1200, 126, 296, 1200, 1200, 296, 296, 1200, 300, 388, 390, 390, 172, 172, 802, 802, 661, 32, 111, 139, 144, 792, 49, 60, 140, 34, 115, 215, 656, 7, 76, 122, 14, 50, 86, 16, 35, 781, 781, 506, 118, 107, 172, 15, 51, 781, 68, 106, 80, 164, 81, 137, 846, 841, 839, 50, 143, 50, 7, 33, 16, 99, 97, 838, 90, 57, 38, 308, 110, 35, 122, 841, 468, 188, 31, 209, 841, 70, 160, 111, 32, 136, 13, 120, 31, 814, 58, 31, 112, 30, 64, 50, 10, 30, 61, 47, 423, 423, 422, 26, 44, 44, 150, 51, 359, 165, 12, 131, 1200, 1200, 304, 304, 1200, 1200, 763, 763, 1200, 1200, 149, 149, 1200, 1200, 1186, 1186, 1150, 334, 348, 1148, 113, 116, 1120, 117, 88, 1104, 1088, 549, 117, 117, 83, 83, 83, 83, 1082, 1082, 1082, 132, 126, 1067, 132, 31, 4, 4, 4, 4, 4, 4, 4, 4, 1004, 1005, 64, 64, 1004, 119, 183, 117, 95, 219, 54, 26, 471, 471, 53, 38, 42, 42, 42, 467, 467, 467, 467]\n",
      "height-----------------------------------------\n",
      "[1600, 196, 196, 87, 87, 113, 109, 4, 367, 367, 108, 108, 102, 101, 102, 85, 85, 43, 43, 164, 167, 68, 47, 41, 83, 83, 90, 90, 37, 43, 33, 38, 45, 45, 10, 37, 45, 10, 35, 36, 9, 36, 88, 105, 41, 67, 67, 34, 8, 31, 39, 33, 33, 35, 37, 32, 31, 418, 216, 49, 31, 33, 45, 29, 28, 29, 32, 32, 44, 33, 47, 47, 41, 34, 31, 32, 144, 41, 41, 28, 32, 61, 58, 55, 27, 26, 30, 5, 31, 26, 60, 41, 20, 36, 29, 27, 25, 22, 26, 30, 26, 104, 104, 54, 6, 30, 29, 32, 49, 43, 37, 4, 33, 454, 454, 128, 128, 229, 229, 97, 97, 695, 695, 97, 97, 82, 82, 91, 91, 56, 56, 41, 103, 88, 97, 137, 131, 78, 143, 84, 95, 66, 66, 124, 124, 124, 124, 315, 315, 192, 99, 192, 123, 123, 123, 75, 75, 75, 75, 74, 74, 74, 74, 250, 182, 37, 37, 79, 32, 42, 31, 50, 34, 57, 52, 96, 96, 105, 81, 27, 27, 27, 79, 79, 79, 79]\n"
     ]
    }
   ],
   "source": [
    "# print(details.keys())\n",
    "# print('conf-----------------------------------------')\n",
    "# print(details['conf'])\n",
    "# print('top-----------------------------------------')\n",
    "# print(details['top'])\n",
    "# print('line_num-----------------------------------------')\n",
    "# print(details['line_num'])\n",
    "# print('word_num-----------------------------------------')\n",
    "# print(details['word_num'])\n",
    "# print('left-----------------------------------------')\n",
    "# print(details['left'])\n",
    "# print('top-----------------------------------------')\n",
    "# print(details['top'])\n",
    "# print('width-----------------------------------------')\n",
    "# print(details['width'])\n",
    "# print('height-----------------------------------------')\n",
    "# print(details['height'])\n"
   ]
  },
  {
   "cell_type": "code",
   "execution_count": null,
   "id": "a9d8af5a",
   "metadata": {},
   "outputs": [],
   "source": [
    "n_boxes = len(details['text'])\n",
    "\n",
    "\n",
    "for i in range(n_boxes):\n",
    "    if int(details['conf'][i]) > 30:\n",
    "        (x, y, w, h) = (details['left'][i], details['top'][i], details['width'][i], details['height'][i])\n",
    "        img = cv2.rectangle(img, (x, y), (x + w, y + h), (0, 255, 0), 2)\n",
    "\n",
    "# cv2.imshow('img', img)\n",
    "# cv2.waitKey(0)\n",
    "# cv2.destroyAllWindows()\n"
   ]
  },
  {
   "cell_type": "code",
   "execution_count": null,
   "id": "15cd4427",
   "metadata": {},
   "outputs": [],
   "source": [
    "parse_text = []\n",
    "\n",
    "word_list = []\n",
    "\n",
    "last_word = []\n",
    "\n",
    "for word in details['text']:\n",
    "    if word.strip()!=''\n",
    "        word_list.append(word)\n",
    "        last_word = word\n",
    "    if(last_word!='' and word =='') or (word==details['text'][-1]):\n",
    "        parse_text.append(word_list)\n",
    "        \n",
    "        word_list = []\n",
    "    "
   ]
  },
  {
   "cell_type": "code",
   "execution_count": null,
   "id": "5f33e5e2",
   "metadata": {},
   "outputs": [],
   "source": [
    "import csv\n",
    "\n",
    "with open('result_text.txt',  'w', newline=\"\") as file:\n",
    "    csv.writer(file, delimiter=\" \").writerows(parse_text)"
   ]
  },
  {
   "cell_type": "code",
   "execution_count": null,
   "id": "b75f1e1f",
   "metadata": {},
   "outputs": [],
   "source": []
  }
 ],
 "metadata": {
  "kernelspec": {
   "display_name": "Python 3",
   "language": "python",
   "name": "python3"
  },
  "language_info": {
   "codemirror_mode": {
    "name": "ipython",
    "version": 3
   },
   "file_extension": ".py",
   "mimetype": "text/x-python",
   "name": "python",
   "nbconvert_exporter": "python",
   "pygments_lexer": "ipython3",
   "version": "3.8.10"
  }
 },
 "nbformat": 4,
 "nbformat_minor": 5
}
