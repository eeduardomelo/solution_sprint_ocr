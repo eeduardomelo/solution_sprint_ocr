{
 "cells": [
  {
   "cell_type": "code",
   "execution_count": 67,
   "id": "7b98b9b4",
   "metadata": {},
   "outputs": [
    {
     "name": "stdout",
     "output_type": "stream",
     "text": [
      "Defaulting to user installation because normal site-packages is not writeable\n",
      "Requirement already satisfied: pandas in /home/eduardo/.local/lib/python3.8/site-packages (1.2.3)\n",
      "Requirement already satisfied: pytz>=2017.3 in /usr/lib/python3/dist-packages (from pandas) (2019.3)\n",
      "Requirement already satisfied: python-dateutil>=2.7.3 in /usr/lib/python3/dist-packages (from pandas) (2.7.3)\n",
      "Requirement already satisfied: numpy>=1.16.5 in /home/eduardo/.local/lib/python3.8/site-packages (from pandas) (1.20.1)\n",
      "\u001b[33mWARNING: You are using pip version 21.0.1; however, version 21.2.4 is available.\n",
      "You should consider upgrading via the '/usr/bin/python3 -m pip install --upgrade pip' command.\u001b[0m\n"
     ]
    }
   ],
   "source": [
    "!pip install pandas"
   ]
  },
  {
   "cell_type": "code",
   "execution_count": 68,
   "id": "da7a2987",
   "metadata": {},
   "outputs": [],
   "source": [
    "import cv2 \n",
    "import pytesseract\n",
    "import numpy as np\n",
    "from pytesseract import Output\n",
    "import imutils\n",
    "import pandas as pd"
   ]
  },
  {
   "cell_type": "markdown",
   "id": "eafe0e7a",
   "metadata": {},
   "source": [
    "## Processando a Imagem"
   ]
  },
  {
   "cell_type": "code",
   "execution_count": 69,
   "id": "287e36f2",
   "metadata": {},
   "outputs": [],
   "source": [
    "# image = cv2.imread('cupom2.jpg')\n",
    "# image = cv2.imread('NotaFiscal1.jpeg')\n",
    "image = cv2.imread('NotaFiscal2.jpeg')\n",
    "\n",
    "img = image.copy()\n",
    "(H, W) = img.shape[:2]\n",
    "#img = cv2.resize(image, (800, 600))\n",
    "#cv2.imshow('img', edged)\n",
    "#cv2.waitKey(0)"
   ]
  },
  {
   "cell_type": "markdown",
   "id": "dc1bb137",
   "metadata": {},
   "source": [
    "## Aplicando tons de cinza"
   ]
  },
  {
   "cell_type": "code",
   "execution_count": 70,
   "id": "9b80ba0d",
   "metadata": {},
   "outputs": [],
   "source": [
    "rgb = cv2.cvtColor(img, cv2.COLOR_BGR2GRAY)"
   ]
  },
  {
   "cell_type": "markdown",
   "id": "35b25f0e",
   "metadata": {},
   "source": [
    "## Aplicando Desfoque\n"
   ]
  },
  {
   "cell_type": "code",
   "execution_count": 71,
   "id": "3d4e021f",
   "metadata": {},
   "outputs": [],
   "source": [
    "#blurImg = cv2.GaussianBlur(rgb, (5, 5), 0)"
   ]
  },
  {
   "cell_type": "markdown",
   "id": "e019ae24",
   "metadata": {},
   "source": [
    "## Dilate to combine adjacent text contours"
   ]
  },
  {
   "cell_type": "code",
   "execution_count": 72,
   "id": "0569bf5b",
   "metadata": {},
   "outputs": [],
   "source": [
    "#edged = cv2.Canny(blurImg, 60, 160)\n",
    "threshold_img = cv2.threshold(rgb, 0, 255, cv2.THRESH_BINARY | cv2.THRESH_OTSU)[1]\n",
    "\n",
    "#thresh = cv2.adaptiveThreshold(blurImg,255,cv2.ADAPTIVE_THRESH_GAUSSIAN_C, cv2.THRESH_BINARY_INV,11,30)\n",
    "#kernel = cv2.getStructuringElement(cv2.MORPH_RECT, (9,9))\n",
    "#dilate = cv2.dilate(thresh, kernel, iterations=4)"
   ]
  },
  {
   "cell_type": "markdown",
   "id": "6a3e4ef4",
   "metadata": {},
   "source": [
    "## Detectando Bordas"
   ]
  },
  {
   "cell_type": "code",
   "execution_count": 73,
   "id": "2eece442",
   "metadata": {},
   "outputs": [],
   "source": [
    "#cnts = cv2.findContours(dilate, cv2.RETR_EXTERNAL, cv2.CHAIN_APPROX_SIMPLE)\n",
    "#cnts = cnts[0] if len(cnts) == 2 else cnts[1]"
   ]
  },
  {
   "cell_type": "markdown",
   "id": "33e3fa4a",
   "metadata": {},
   "source": [
    "## Função para encontrar contornos na imagem"
   ]
  },
  {
   "cell_type": "code",
   "execution_count": 74,
   "id": "b3a19cbe",
   "metadata": {},
   "outputs": [],
   "source": [
    "# def encontrar_contornos(img):\n",
    "#   conts = cv2.findContours(img, cv2.RETR_LIST, cv2.CHAIN_APPROX_SIMPLE)\n",
    "#   conts = imutils.grab_contours(conts)\n",
    "#   conts = sorted(conts, key = cv2.contourArea, reverse = True)[:6]\n",
    "#   return conts\n",
    "\n",
    "# conts = encontrar_contornos(edged.copy())\n",
    "# #conts\n",
    "\n",
    "# for c in conts:\n",
    "#   perimetro = cv2.arcLength(c, True)\n",
    "#   aproximacao = cv2.approxPolyDP(c, 0.02 * perimetro, True)\n",
    "#   if len(aproximacao) == 4:\n",
    "#     maior = aproximacao\n",
    "#     break\n",
    "# maior\n",
    "\n",
    "# cv2.drawContours(img, maior, -1, (120, 255, 0), 28)\n",
    "# cv2.drawContours(img, [maior], -1, (120, 255, 0), 2)\n",
    "# cv2.imshow('img', img)\n",
    "# cv2.waitKey(0)\n",
    "\n",
    "# def ordenar_pontos(pontos):\n",
    "#   pontos = pontos.reshape((4,2))\n",
    "#   pontos_novos = np.zeros((4, 1, 2), dtype=np.int32)\n",
    "\n",
    "#   add = pontos.sum(1)\n",
    "#   pontos_novos[0] = pontos[np.argmin(add)]\n",
    "#   pontos_novos[2] = pontos[np.argmax(add)]\n",
    "\n",
    "#   dif = np.diff(pontos, axis = 1)\n",
    "#   pontos_novos[1] = pontos[np.argmin(dif)]\n",
    "#   pontos_novos[3] = pontos[np.argmax(dif)]\n",
    "\n",
    "#   return pontos_novos\n",
    "\n",
    "# pontos_maior = ordenar_pontos(maior)\n",
    "# print(pontos_maior)\n",
    "\n",
    "# pts1 = np.float32(pontos_maior)\n",
    "# pts1\n",
    "\n",
    "# (H, W) = img.shape[:2]\n",
    "# print(H, W)\n",
    "\n",
    "# pts2 = np.float32([[0,0], [W, 0], [W, H], [0, H]])\n",
    "\n",
    "# matriz = cv2.getPerspectiveTransform(pts1, pts2)\n",
    "# matriz"
   ]
  },
  {
   "cell_type": "markdown",
   "id": "a434725a",
   "metadata": {},
   "source": [
    "## Transformação de perspectiva"
   ]
  },
  {
   "cell_type": "code",
   "execution_count": 75,
   "id": "93dbce02",
   "metadata": {},
   "outputs": [],
   "source": [
    "# transform = cv2.warpPerspective(img, matriz, (W, H))"
   ]
  },
  {
   "cell_type": "code",
   "execution_count": 76,
   "id": "484cbdba",
   "metadata": {},
   "outputs": [],
   "source": [
    "# cv2.imshow('img', transform)\n",
    "# cv2.waitKey(0)"
   ]
  },
  {
   "cell_type": "code",
   "execution_count": 77,
   "id": "830a88a0",
   "metadata": {},
   "outputs": [],
   "source": [
    "# conts = encontrar_contornos(edged.copy())"
   ]
  },
  {
   "cell_type": "code",
   "execution_count": 78,
   "id": "62eb915a",
   "metadata": {},
   "outputs": [],
   "source": [
    "# cv2.drawContours(edged, maior, -1, (120, 255, 0), 28)\n",
    "# cv2.drawContours(edged, [maior], -1, (120, 255, 0), 2)\n",
    "# #cv2.imshow('img', img)\n",
    "# #cv2.waitKey(0)"
   ]
  },
  {
   "cell_type": "code",
   "execution_count": 95,
   "id": "08fcbfbd",
   "metadata": {},
   "outputs": [
    {
     "name": "stdout",
     "output_type": "stream",
     "text": [
      "RTT CHC USSARCL Aa\n",
      "200 KG RK 70,90\n",
      "fd GUUOOODUSRZE PAD DF FERMENTALAN N\n",
      "{ (GA 46,00\n",
      "yuh GOOUREAEES GE NURAHOU LORTA GHEE 6\n",
      "2,000) bits 10. 5u\n",
      "\n",
      "— TUTAL RS\n",
      "cartag de Credito Rs\n",
      "Traca R¢\n",
      "\n",
      "ib Spius R$ 2.73 Federal e R$ 7,80 Estadual\n",
      "tunte: IBPT Soi Zell\n",
      "\n",
      "CHBLOU VENDA 4153218\n",
      "“#ixa: CALANOS — Cperader: CATNA?\n",
      "\n",
      "SAT No. 000841543\n",
      "O1/08/2021 - 17:45:55\n",
      "\n",
      "( a G10 S900 O84) 5430 84394 192] WIS]\n",
      "\n",
      "| My\n",
      "\n",
      " \n",
      "\n",
      "\"yy\n",
      "(#2, iO\n",
      "\n",
      "1757\n",
      "\n",
      "(#2 BQ\n",
      "21,00\n",
      "\n",
      "65,01\n",
      "65 ty\n",
      "0,00\n",
      "\n",
      " \n",
      "\f",
      "\n"
     ]
    }
   ],
   "source": [
    "import re\n",
    "\n",
    "#parametros para o tesseract\n",
    "custom_config = 'psm 4'\n",
    "\n",
    "details = pytesseract.image_to_data(threshold_img, output_type=Output.DICT, config=custom_config)\n",
    "text = pytesseract.image_to_string(threshold_img, config=custom_config)\n",
    "print(text)\n",
    "alldata = pd.DataFrame(details)\n",
    "\n",
    "#alldata.to_excel('MarksData.xlsx')\n"
   ]
  },
  {
   "cell_type": "code",
   "execution_count": 80,
   "id": "33b889ac",
   "metadata": {},
   "outputs": [],
   "source": [
    "def removeSpecialCharacters(string):\n",
    "    alphanumeric = []\n",
    "\n",
    "    for character in string:\n",
    "        if character.isalnum():\n",
    "            alphanumeric.append(character) \n",
    "        \n",
    "    return alphanumeric"
   ]
  },
  {
   "cell_type": "markdown",
   "id": "c60a34ca",
   "metadata": {},
   "source": [
    "## Loop para pegar  Nome Estabelecimento"
   ]
  },
  {
   "cell_type": "code",
   "execution_count": 81,
   "id": "bf12c4e0",
   "metadata": {},
   "outputs": [],
   "source": [
    "name = []\n",
    "for i, data in enumerate(alldata['block_num']):\n",
    "    if(data==3):\n",
    "        if(alldata['line_num'][i]==1):    \n",
    "            if(alldata['word_num'][i]>0):\n",
    "                name.append(alldata['text'][i])\n"
   ]
  },
  {
   "cell_type": "markdown",
   "id": "05450995",
   "metadata": {},
   "source": [
    "## Loop para Pegar Produtos"
   ]
  },
  {
   "cell_type": "code",
   "execution_count": 82,
   "id": "115e6da8",
   "metadata": {},
   "outputs": [],
   "source": [
    "products = []\n",
    "for i, data in enumerate(alldata['block_num']):\n",
    "    if(data==5):\n",
    "        if(alldata['line_num'][i]==1 and alldata['par_num'][i]==1):    \n",
    "            if(alldata['word_num'][i]>0):\n",
    "                products.append(alldata['text'][i])"
   ]
  },
  {
   "cell_type": "markdown",
   "id": "bec6f39c",
   "metadata": {},
   "source": [
    "## Loop para Pegar Total da Nota"
   ]
  },
  {
   "cell_type": "code",
   "execution_count": 83,
   "id": "d7b8d087",
   "metadata": {},
   "outputs": [],
   "source": [
    "total = []\n",
    "for i, data in enumerate(alldata['block_num']):\n",
    "    if(data==5):\n",
    "        if(alldata['line_num'][i]==2 and alldata['par_num'][i]==1):    \n",
    "            if(alldata['word_num'][i]>0):\n",
    "                total.append(alldata['text'][i])"
   ]
  },
  {
   "cell_type": "code",
   "execution_count": 84,
   "id": "0226f448",
   "metadata": {},
   "outputs": [
    {
     "name": "stdout",
     "output_type": "stream",
     "text": [
      "['ib', 'Spius', 'R$', '2.73', 'Federal', 'e', 'R$', '7,80', 'Estadual']\n"
     ]
    }
   ],
   "source": [
    "name = removeSpecialCharacters(name)\n",
    "# products = removeSpecialCharacters(products)\n",
    "# total = ''.join(total)\n",
    "print(products)\n",
    "\n",
    "def listToString(s): \n",
    "    \n",
    "    # initialize an empty string\n",
    "    str1 = \"\" \n",
    "    \n",
    "    # traverse in the string  \n",
    "    for ele in s: \n",
    "        str1 += ele  \n",
    "    \n",
    "    # return string  \n",
    "    return str1 "
   ]
  },
  {
   "cell_type": "markdown",
   "id": "e17ddfcb",
   "metadata": {},
   "source": [
    "## Criando Classe de Retorno"
   ]
  },
  {
   "cell_type": "code",
   "execution_count": 85,
   "id": "1d2cf20a",
   "metadata": {},
   "outputs": [
    {
     "name": "stdout",
     "output_type": "stream",
     "text": [
      "Estabelecimento: RS\n",
      "Produtos:\n",
      "ib Spius R$ 2.73 Federal e R$ 7,80 Estadual\n",
      "tunte: IBPT Soi Zell\n"
     ]
    }
   ],
   "source": [
    "class Cupom(object):\n",
    "    name = \"\"\n",
    "    products\n",
    "    total = \"\"\n",
    "\n",
    "def make_cupom(name, products, major):\n",
    "    cupom = Cupom()\n",
    "    cupom.name = ' '.join(name)\n",
    "    cupom.products = products\n",
    "    cupom.total = total\n",
    "    # Note: I didn't need to create a variable in the class definition before doing this.\n",
    "    return cupom\n",
    "\n",
    "cupoms = make_cupom(name, products, total)\n",
    "\n",
    "print('Estabelecimento: '+cupoms.name)\n",
    "print('Produtos:')\n",
    "print(' '.join(cupoms.products))\n",
    "print(' '.join(cupoms.total))\n"
   ]
  },
  {
   "cell_type": "code",
   "execution_count": 86,
   "id": "77a05d40",
   "metadata": {},
   "outputs": [],
   "source": [
    "# print(details.keys())\n",
    "# print('conf-----------------------------------------')\n",
    "# print(details['conf'])\n",
    "# print('top-----------------------------------------')\n",
    "# print(details['top'])\n",
    "# print('line_num-----------------------------------------')\n",
    "# print(details['line_num'])\n",
    "# print('word_num-----------------------------------------')\n",
    "# print(details['word_num'])\n",
    "# print('left-----------------------------------------')\n",
    "# print(details['left'])\n",
    "# print('top-----------------------------------------')\n",
    "# print(details['top'])\n",
    "# print('width-----------------------------------------')\n",
    "# print(details['width'])\n",
    "# print('height-----------------------------------------')\n",
    "# print(details['height'])\n"
   ]
  },
  {
   "cell_type": "code",
   "execution_count": 87,
   "id": "a9d8af5a",
   "metadata": {},
   "outputs": [],
   "source": [
    "n_boxes = len(details['text'])\n",
    "\n",
    "\n",
    "for i in range(n_boxes):\n",
    "    if int(details['conf'][i]) > 30:\n",
    "        (x, y, w, h) = (details['left'][i], details['top'][i], details['width'][i], details['height'][i])\n",
    "        img = cv2.rectangle(img, (x, y), (x + w, y + h), (0, 255, 0), 2)\n",
    "\n",
    "# cv2.imshow('img', img)\n",
    "# cv2.waitKey(0)\n",
    "# cv2.destroyAllWindows()\n"
   ]
  },
  {
   "cell_type": "code",
   "execution_count": 88,
   "id": "15cd4427",
   "metadata": {},
   "outputs": [
    {
     "ename": "SyntaxError",
     "evalue": "invalid syntax (<ipython-input-88-9cd295ee784f>, line 8)",
     "output_type": "error",
     "traceback": [
      "\u001b[0;36m  File \u001b[0;32m\"<ipython-input-88-9cd295ee784f>\"\u001b[0;36m, line \u001b[0;32m8\u001b[0m\n\u001b[0;31m    if word.strip()!=''\u001b[0m\n\u001b[0m                       ^\u001b[0m\n\u001b[0;31mSyntaxError\u001b[0m\u001b[0;31m:\u001b[0m invalid syntax\n"
     ]
    }
   ],
   "source": [
    "parse_text = []\n",
    "\n",
    "word_list = []\n",
    "\n",
    "last_word = []\n",
    "\n",
    "for word in details['text']:\n",
    "    if word.strip()!=''\n",
    "        word_list.append(word)\n",
    "        last_word = word\n",
    "    if(last_word!='' and word =='') or (word==details['text'][-1]):\n",
    "        parse_text.append(word_list)\n",
    "        \n",
    "        word_list = []\n",
    "    "
   ]
  },
  {
   "cell_type": "code",
   "execution_count": null,
   "id": "5f33e5e2",
   "metadata": {},
   "outputs": [],
   "source": [
    "import csv\n",
    "\n",
    "with open('result_text.txt',  'w', newline=\"\") as file:\n",
    "    csv.writer(file, delimiter=\" \").writerows(parse_text)"
   ]
  },
  {
   "cell_type": "code",
   "execution_count": null,
   "id": "b75f1e1f",
   "metadata": {},
   "outputs": [],
   "source": []
  }
 ],
 "metadata": {
  "kernelspec": {
   "display_name": "Python 3",
   "language": "python",
   "name": "python3"
  },
  "language_info": {
   "codemirror_mode": {
    "name": "ipython",
    "version": 3
   },
   "file_extension": ".py",
   "mimetype": "text/x-python",
   "name": "python",
   "nbconvert_exporter": "python",
   "pygments_lexer": "ipython3",
   "version": "3.8.10"
  }
 },
 "nbformat": 4,
 "nbformat_minor": 5
}
