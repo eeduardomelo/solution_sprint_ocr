{
 "cells": [
  {
   "cell_type": "code",
   "execution_count": 1,
   "id": "7b98b9b4",
   "metadata": {},
   "outputs": [
    {
     "name": "stdout",
     "output_type": "stream",
     "text": [
      "Defaulting to user installation because normal site-packages is not writeable\n",
      "Requirement already satisfied: pandas in /home/eduardo/.local/lib/python3.8/site-packages (1.2.3)\n",
      "Requirement already satisfied: python-dateutil>=2.7.3 in /usr/lib/python3/dist-packages (from pandas) (2.7.3)\n",
      "Requirement already satisfied: numpy>=1.16.5 in /home/eduardo/.local/lib/python3.8/site-packages (from pandas) (1.20.1)\n",
      "Requirement already satisfied: pytz>=2017.3 in /usr/lib/python3/dist-packages (from pandas) (2019.3)\n",
      "\u001b[33mWARNING: You are using pip version 21.0.1; however, version 21.2.4 is available.\n",
      "You should consider upgrading via the '/usr/bin/python3 -m pip install --upgrade pip' command.\u001b[0m\n"
     ]
    }
   ],
   "source": [
    "!pip install pandas"
   ]
  },
  {
   "cell_type": "code",
   "execution_count": 2,
   "id": "da7a2987",
   "metadata": {},
   "outputs": [],
   "source": [
    "import cv2 \n",
    "import pytesseract\n",
    "import numpy as np\n",
    "from pytesseract import Output\n",
    "import imutils\n",
    "\n",
    "import pandas as pd\n"
   ]
  },
  {
   "cell_type": "code",
   "execution_count": 3,
   "id": "13a5d9bf",
   "metadata": {},
   "outputs": [],
   "source": [
    "#image = cv2.imread('cupom1.jpeg')\n",
    "\n",
    "image = cv2.imread('cupom2.jpg')\n",
    "\n",
    "img = imutils.resize(image, width=500)\n",
    "\n",
    "# cv2.imshow('ImageWindow', img)\n",
    "# cv2.waitKey(0)\n",
    "\n",
    "rgb = cv2.cvtColor(img, cv2.COLOR_BGR2GRAY)\n",
    "\n",
    "#d = pytesseract.image_to_string(rgb,output_type=Output.DICT)\n",
    "threshold_img = cv2.threshold(rgb, 0, 255, cv2.THRESH_BINARY | cv2.THRESH_OTSU)[1]\n",
    "threshold_img = cv2.GaussianBlur(threshold_img, (3,3), 0)\n",
    "    "
   ]
  },
  {
   "cell_type": "code",
   "execution_count": 6,
   "id": "08fcbfbd",
   "metadata": {},
   "outputs": [],
   "source": [
    "#parametros para o tesseract\n",
    "custom_config = r'--oem 3 --psm 4'\n",
    "\n",
    "details = pytesseract.image_to_data(threshold_img, output_type=Output.DICT, config=custom_config)\n",
    "text = pytesseract.image_to_string(threshold_img, output_type=Output.DICT, config=custom_config)"
   ]
  },
  {
   "cell_type": "code",
   "execution_count": 19,
   "id": "77a05d40",
   "metadata": {},
   "outputs": [
    {
     "name": "stdout",
     "output_type": "stream",
     "text": [
      "dict_keys(['level', 'page_num', 'block_num', 'par_num', 'line_num', 'word_num', 'left', 'top', 'width', 'height', 'conf', 'text'])\n",
      "['-1', '-1', '-1', '-1', 88, 20, 20, 89, 79, 26, '-1', 91, 81, 67, 59, '-1', 92, 91, 91, 81, 87, '-1', '-1', '-1', 95, 95, '-1', 95, '-1', '-1', '-1', 9, 0, 66, 0, 51, '-1', 46, 19, 0, 0, 0, 42, 92, '-1', 80, 89, '-1', 0, 0, 0, 0, 0, '-1', '-1', 78, 78, 85, 29, 0, 55, 0, 94, '-1', 90, 81, 74, 89, 90, 88, 58, 95, '-1', 94, 89, 80, 27, 88, '-1', '-1', 95, 68, '-1', 51, '-1', 78, 54, '-1', '-1', '-1', 95, '-1', '-1', '-1', 95, 66, 34, 36, 70, 96, '-1', 92, 92, 89, 86, '-1', 84, 92, 96, '-1', 91, 91, 92, 92, 95, '-1', '-1', 72, 83, 41, 85, 81, '-1', '-1', 44, 2, 30, '-1', 41, 43, 34, 93, 87, 50, 2, 21, 67, '-1', 62, 42, 88, '-1', 86, 43, 43, 21, 19, 0, '-1', 26, 96, '-1', 32, 49, 16, 90, '-1', 58, 54, '-1', '-1', '-1', 95]\n",
      "-----------------------------------------\n",
      "-----------------------------------------\n",
      "[0, 35, 35, 35, 35, 36, 36, 36, 36, 36, 52, 52, 52, 53, 53, 70, 70, 70, 71, 71, 71, 107, 107, 107, 107, 109, 136, 136, 91, 91, 91, 91, 91, 92, 92, 93, 105, 107, 108, 109, 105, 109, 109, 130, 129, 128, 129, 132, 163, 140, 140, 140, 132, 169, 169, 169, 164, 169, 170, 172, 172, 171, 172, 189, 189, 189, 190, 190, 192, 193, 192, 192, 210, 210, 210, 211, 211, 212, 230, 230, 230, 230, 250, 250, 268, 268, 269, 209, 209, 209, 209, 309, 309, 309, 309, 309, 310, 311, 311, 312, 326, 326, 333, 327, 328, 345, 345, 347, 347, 363, 363, 368, 364, 371, 365, 381, 381, 381, 387, 393, 388, 389, 404, 404, 404, 405, 400, 423, 426, 423, 427, 428, 428, 429, 428, 428, 431, 444, 444, 444, 446, 462, 462, 462, 464, 466, 462, 467, 479, 479, 481, 496, 496, 502, 504, 506, 518, 514, 518, 528, 528, 528, 528]\n",
      "-----------------------------------------\n",
      "['', '', '', '', 'CARREFUUR', 'CUMERC', 'EO', 'E', 'INDUSTRIA', 'LIOR', '', 'LAGO', 'SUL', 'BRASIL', 'IA~DF', '', 'SHIS', 'QI', '25', 'LOIE', 'G', '', '', '', ' ', ' ', '', ' ', '', '', '', '(NPD:', '45.543.915/006-1', 'TE:', '07.312.', '810/006-86_', '', '2', '50', 'CF)', 'eet', 'ia.', 'coo', '4', '', 'JPOM', 'FISC', '', '(', '16)', 'O2O.UN.', 'YL', 'rickemon', '', '', '001', '00515647', 'CREME', 'LETTE', 'W', '1', '117,00', '1,65)', '', '002', '0051564?', 'CREME', 'LETTE', 'N', '2', 'T1?,00%', '1,65)', '', '003', '00515647', '(RENE', 'LETTE', 'N', '', '', 'TOTAL', 'RS', '', 'DINHEIROv', '', 'TROCO', 'R$', '', '', '', ' ', '', '', '', 'ORT:', '901262113', 'POV:', '7?', 'CUPON:', '37329', '', 'PROCON', '-', 'FONE:', '3212-2500', '', 'SAC_CARREFOUR-0800', '727', '3090', '', 'TELEFONE', ':', '3367-7039', '-', '3367-3734', '', '', 'fiplicativo', 'Calypso', '~', 'Ver.:', 'CA.15.cOL', '', '', 'HDS:', 'dhfGe92a0t698e435', '1da9825b9000220', '', 'OER', '267A7', '1FO1B', '783139', '48', 'S4AUBF', '0AB58', '208C7', '6C4', '', 'DARUNR', 'AUTOMACAD', 'FS600', '', 'ECF-IF', 'VERSAO:', '01.05.00', 'ECF', '2023', 'Ly:011', '', 'QPR:BETANIA', 'RODRIGUES', '', 'ARRAARAACEHBIAF', 'JHA', '20/03/201L', '15:49:22', '', 'FAB:', 'DROZ078R000000101919', '', '', '', '']\n"
     ]
    }
   ],
   "source": [
    "print(details.keys())\n",
    "print(details['conf'])\n",
    "print('-----------------------------------------')\n",
    "print('-----------------------------------------')\n",
    "print(details['top'])\n",
    "print('-----------------------------------------')\n",
    "\n",
    "print(details['text'])\n"
   ]
  },
  {
   "cell_type": "code",
   "execution_count": 9,
   "id": "a9d8af5a",
   "metadata": {},
   "outputs": [],
   "source": [
    "n_boxes = len(details['text'])\n",
    "\n",
    "\n",
    "for i in range(n_boxes):\n",
    "    if int(details['conf'][i]) > 60:\n",
    "        (x, y, w, h) = (details['left'][i], details['top'][i], details['width'][i], details['height'][i])\n",
    "        img = cv2.rectangle(img, (x, y), (x + w, y + h), (0, 255, 0), 2)\n",
    "\n",
    "# cv2.imshow('img', img)\n",
    "# cv2.waitKey(0)"
   ]
  },
  {
   "cell_type": "code",
   "execution_count": 10,
   "id": "15cd4427",
   "metadata": {},
   "outputs": [],
   "source": [
    "parse_text = []\n",
    "\n",
    "word_list = []\n",
    "\n",
    "last_word = []\n",
    "\n",
    "for word in details['text']:\n",
    "    if word!='':\n",
    "        word_list.append(word)\n",
    "        last_word = word\n",
    "    if(last_word!='' and word =='') or (word==details['text'][-1]):\n",
    "        parse_text.append(word_list)\n",
    "        \n",
    "        word_list = []\n",
    "    "
   ]
  },
  {
   "cell_type": "code",
   "execution_count": 21,
   "id": "5f33e5e2",
   "metadata": {},
   "outputs": [
    {
     "name": "stdout",
     "output_type": "stream",
     "text": [
      "[[], [], [], [], ['CARREFUUR', 'CUMERC', 'EO', 'E', 'INDUSTRIA', 'LIOR'], ['LAGO', 'SUL', 'BRASIL', 'IA~DF'], ['SHIS', 'QI', '25', 'LOIE', 'G'], [], [], [' ', ' '], [' '], [], [], ['(NPD:', '45.543.915/006-1', 'TE:', '07.312.', '810/006-86_'], ['2', '50', 'CF)', 'eet', 'ia.', 'coo', '4'], ['JPOM', 'FISC'], ['(', '16)', 'O2O.UN.', 'YL', 'rickemon'], [], ['001', '00515647', 'CREME', 'LETTE', 'W', '1', '117,00', '1,65)'], ['002', '0051564?', 'CREME', 'LETTE', 'N', '2', 'T1?,00%', '1,65)'], ['003', '00515647', '(RENE', 'LETTE', 'N'], [], ['TOTAL', 'RS'], ['DINHEIROv'], ['TROCO', 'R$'], [], [], [' '], [], [], ['ORT:', '901262113', 'POV:', '7?', 'CUPON:', '37329'], ['PROCON', '-', 'FONE:', '3212-2500'], ['SAC_CARREFOUR-0800', '727', '3090'], ['TELEFONE', ':', '3367-7039', '-', '3367-3734'], [], ['fiplicativo', 'Calypso', '~', 'Ver.:', 'CA.15.cOL'], [], ['HDS:', 'dhfGe92a0t698e435', '1da9825b9000220'], ['OER', '267A7', '1FO1B', '783139', '48', 'S4AUBF', '0AB58', '208C7', '6C4'], ['DARUNR', 'AUTOMACAD', 'FS600'], ['ECF-IF', 'VERSAO:', '01.05.00', 'ECF', '2023', 'Ly:011'], ['QPR:BETANIA', 'RODRIGUES'], ['ARRAARAACEHBIAF', 'JHA', '20/03/201L', '15:49:22'], ['FAB:', 'DROZ078R000000101919'], [], [], []]\n"
     ]
    }
   ],
   "source": [
    "print(parse_text)"
   ]
  }
 ],
 "metadata": {
  "kernelspec": {
   "display_name": "Python 3",
   "language": "python",
   "name": "python3"
  },
  "language_info": {
   "codemirror_mode": {
    "name": "ipython",
    "version": 3
   },
   "file_extension": ".py",
   "mimetype": "text/x-python",
   "name": "python",
   "nbconvert_exporter": "python",
   "pygments_lexer": "ipython3",
   "version": "3.8.10"
  }
 },
 "nbformat": 4,
 "nbformat_minor": 5
}
